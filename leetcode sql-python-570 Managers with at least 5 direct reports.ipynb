{
 "cells": [
  {
   "cell_type": "markdown",
   "metadata": {},
   "source": [
    "# 570. Managers with at least 5 direct reports"
   ]
  },
  {
   "cell_type": "raw",
   "metadata": {},
   "source": [
    "The Employee table holds all employees including their managers. Every employee has an Id, and there is also a column \n",
    "for the manager Id.\n",
    "\n",
    "+------+----------+-----------+----------+\n",
    "|Id    |Name \t  |Department |ManagerId |\n",
    "+------+----------+-----------+----------+\n",
    "|101   |John \t  |A \t      |null      |\n",
    "|102   |Dan \t  |A \t      |101       |\n",
    "|103   |James \t  |A \t      |101       |\n",
    "|104   |Amy \t  |A \t      |101       |\n",
    "|105   |Anne \t  |A \t      |101       |\n",
    "|106   |Ron \t  |B \t      |101       |\n",
    "+------+----------+-----------+----------+\n",
    "Given the Employee table, write a SQL query that finds out managers with at least 5 direct report. For the above table\n",
    ", your SQL query should return:\n",
    "\n",
    "+-------+\n",
    "| Name  |\n",
    "+-------+\n",
    "| John  |\n",
    "+-------+"
   ]
  },
  {
   "cell_type": "code",
   "execution_count": 52,
   "metadata": {},
   "outputs": [
    {
     "data": {
      "text/html": [
       "<div>\n",
       "<style>\n",
       "    .dataframe thead tr:only-child th {\n",
       "        text-align: right;\n",
       "    }\n",
       "\n",
       "    .dataframe thead th {\n",
       "        text-align: left;\n",
       "    }\n",
       "\n",
       "    .dataframe tbody tr th {\n",
       "        vertical-align: top;\n",
       "    }\n",
       "</style>\n",
       "<table border=\"1\" class=\"dataframe\">\n",
       "  <thead>\n",
       "    <tr style=\"text-align: right;\">\n",
       "      <th></th>\n",
       "      <th>Id</th>\n",
       "      <th>Name</th>\n",
       "      <th>Department</th>\n",
       "      <th>Manager_Id</th>\n",
       "    </tr>\n",
       "  </thead>\n",
       "  <tbody>\n",
       "    <tr>\n",
       "      <th>0</th>\n",
       "      <td>101</td>\n",
       "      <td>John</td>\n",
       "      <td>A</td>\n",
       "      <td>107</td>\n",
       "    </tr>\n",
       "    <tr>\n",
       "      <th>1</th>\n",
       "      <td>102</td>\n",
       "      <td>Dan</td>\n",
       "      <td>A</td>\n",
       "      <td>101</td>\n",
       "    </tr>\n",
       "    <tr>\n",
       "      <th>2</th>\n",
       "      <td>103</td>\n",
       "      <td>James</td>\n",
       "      <td>A</td>\n",
       "      <td>101</td>\n",
       "    </tr>\n",
       "    <tr>\n",
       "      <th>3</th>\n",
       "      <td>104</td>\n",
       "      <td>Amy</td>\n",
       "      <td>A</td>\n",
       "      <td>101</td>\n",
       "    </tr>\n",
       "    <tr>\n",
       "      <th>4</th>\n",
       "      <td>105</td>\n",
       "      <td>Anne</td>\n",
       "      <td>A</td>\n",
       "      <td>101</td>\n",
       "    </tr>\n",
       "    <tr>\n",
       "      <th>5</th>\n",
       "      <td>106</td>\n",
       "      <td>Ron</td>\n",
       "      <td>B</td>\n",
       "      <td>101</td>\n",
       "    </tr>\n",
       "    <tr>\n",
       "      <th>6</th>\n",
       "      <td>107</td>\n",
       "      <td>Joh</td>\n",
       "      <td>C</td>\n",
       "      <td>null</td>\n",
       "    </tr>\n",
       "    <tr>\n",
       "      <th>7</th>\n",
       "      <td>108</td>\n",
       "      <td>Ja</td>\n",
       "      <td>C</td>\n",
       "      <td>107</td>\n",
       "    </tr>\n",
       "    <tr>\n",
       "      <th>8</th>\n",
       "      <td>109</td>\n",
       "      <td>Jb</td>\n",
       "      <td>C</td>\n",
       "      <td>107</td>\n",
       "    </tr>\n",
       "    <tr>\n",
       "      <th>9</th>\n",
       "      <td>110</td>\n",
       "      <td>Jc</td>\n",
       "      <td>C</td>\n",
       "      <td>107</td>\n",
       "    </tr>\n",
       "    <tr>\n",
       "      <th>10</th>\n",
       "      <td>111</td>\n",
       "      <td>Jd</td>\n",
       "      <td>C</td>\n",
       "      <td>107</td>\n",
       "    </tr>\n",
       "  </tbody>\n",
       "</table>\n",
       "</div>"
      ],
      "text/plain": [
       "     Id   Name Department Manager_Id\n",
       "0   101   John          A        107\n",
       "1   102    Dan          A        101\n",
       "2   103  James          A        101\n",
       "3   104    Amy          A        101\n",
       "4   105   Anne          A        101\n",
       "5   106    Ron          B        101\n",
       "6   107    Joh          C       null\n",
       "7   108     Ja          C        107\n",
       "8   109     Jb          C        107\n",
       "9   110     Jc          C        107\n",
       "10  111     Jd          C        107"
      ]
     },
     "execution_count": 52,
     "metadata": {},
     "output_type": "execute_result"
    }
   ],
   "source": [
    "import pandas as pd\n",
    "import re\n",
    "import numpy as np\n",
    "Employee1=pd.DataFrame({'Id':[101,102,103,104,105,106,107,108,109,110,111],\n",
    "'Name':['John','Dan','James','Amy','Anne','Ron','Joh','Ja','Jb','Jc', 'Jd'],\n",
    "'Manager_Id':[107,101,101,101,101,101,'null',107,107,107,107],\n",
    "'Department':['A','A','A','A','A','B','C','C','C','C','C']})\n",
    "Employee1=Employee1[['Id','Name','Department','Manager_Id']]\n",
    "Employee1"
   ]
  },
  {
   "cell_type": "code",
   "execution_count": null,
   "metadata": {},
   "outputs": [],
   "source": [
    "import pandas as pd\n",
    "import re\n",
    "import numpy as np\n",
    "Employee= pd.DataFrame({'Id':[101,102,103,104,105,106],\n",
    "'Name':['John','Dan','James','Amy','Anne','Ron'],\n",
    "'Manager_Id':['null',101,101,101,101,101,],\n",
    "'Department':['A','A','A','A','A','B',]})\n",
    "Employee=Employee[['Id','Name','Department','Manager_Id']]\n",
    "Employee"
   ]
  },
  {
   "cell_type": "code",
   "execution_count": 62,
   "metadata": {},
   "outputs": [
    {
     "name": "stdout",
     "output_type": "stream",
     "text": [
      "    Id_x Name_x Department_x Manager_Id_x   Id_y Name_y Department_y  \\\n",
      "0    101   John            A          107  107.0    Joh            C   \n",
      "1    102    Dan            A          101  101.0   John            A   \n",
      "2    103  James            A          101  101.0   John            A   \n",
      "3    104    Amy            A          101  101.0   John            A   \n",
      "4    105   Anne            A          101  101.0   John            A   \n",
      "5    106    Ron            B          101  101.0   John            A   \n",
      "6    107    Joh            C         null    NaN    NaN          NaN   \n",
      "7    108     Ja            C          107  107.0    Joh            C   \n",
      "8    109     Jb            C          107  107.0    Joh            C   \n",
      "9    110     Jc            C          107  107.0    Joh            C   \n",
      "10   111     Jd            C          107  107.0    Joh            C   \n",
      "\n",
      "   Manager_Id_y  \n",
      "0          null  \n",
      "1           107  \n",
      "2           107  \n",
      "3           107  \n",
      "4           107  \n",
      "5           107  \n",
      "6           NaN  \n",
      "7          null  \n",
      "8          null  \n",
      "9          null  \n",
      "10         null  \n",
      "   Name_y\n",
      "1    John\n",
      "2    John\n",
      "3    John\n",
      "4    John\n",
      "5    John\n",
      "0     Joh\n",
      "7     Joh\n",
      "8     Joh\n",
      "9     Joh\n",
      "10    Joh\n"
     ]
    }
   ],
   "source": [
    "pmee=pd.merge(Employee,Employee,left_on='Manager_Id',right_on='Id', how='left')\n",
    "print(pmee)\n",
    "pmee.groupby('Name_y').size()\n",
    "output=pmee.groupby('Name_y').filter(lambda x:len(x)>=5)[['Name_y']].sort_values(by='Name_y',ascending=False)\n",
    "print(output)   #"
   ]
  },
  {
   "cell_type": "code",
   "execution_count": 76,
   "metadata": {},
   "outputs": [
    {
     "data": {
      "text/plain": [
       "['John', 'Joh']"
      ]
     },
     "execution_count": 76,
     "metadata": {},
     "output_type": "execute_result"
    }
   ],
   "source": [
    "output['Name_y'].unique().tolist()"
   ]
  },
  {
   "cell_type": "code",
   "execution_count": 78,
   "metadata": {},
   "outputs": [
    {
     "data": {
      "text/html": [
       "<div>\n",
       "<style>\n",
       "    .dataframe thead tr:only-child th {\n",
       "        text-align: right;\n",
       "    }\n",
       "\n",
       "    .dataframe thead th {\n",
       "        text-align: left;\n",
       "    }\n",
       "\n",
       "    .dataframe tbody tr th {\n",
       "        vertical-align: top;\n",
       "    }\n",
       "</style>\n",
       "<table border=\"1\" class=\"dataframe\">\n",
       "  <thead>\n",
       "    <tr style=\"text-align: right;\">\n",
       "      <th></th>\n",
       "      <th>Name</th>\n",
       "    </tr>\n",
       "  </thead>\n",
       "  <tbody>\n",
       "    <tr>\n",
       "      <th>0</th>\n",
       "      <td>John</td>\n",
       "    </tr>\n",
       "    <tr>\n",
       "      <th>1</th>\n",
       "      <td>Joh</td>\n",
       "    </tr>\n",
       "  </tbody>\n",
       "</table>\n",
       "</div>"
      ],
      "text/plain": [
       "   Name\n",
       "0  John\n",
       "1   Joh"
      ]
     },
     "execution_count": 78,
     "metadata": {},
     "output_type": "execute_result"
    }
   ],
   "source": [
    "output1=pd.DataFrame(output['Name_y'].unique().tolist(),columns=['Name'])\n",
    "output1"
   ]
  },
  {
   "cell_type": "code",
   "execution_count": 80,
   "metadata": {},
   "outputs": [
    {
     "name": "stdout",
     "output_type": "stream",
     "text": [
      "Name\n",
      "John\n",
      " Joh\n"
     ]
    }
   ],
   "source": [
    "print(output1.to_string(index=False))"
   ]
  },
  {
   "cell_type": "code",
   "execution_count": null,
   "metadata": {},
   "outputs": [],
   "source": []
  },
  {
   "cell_type": "code",
   "execution_count": null,
   "metadata": {},
   "outputs": [],
   "source": []
  },
  {
   "cell_type": "code",
   "execution_count": null,
   "metadata": {},
   "outputs": [],
   "source": []
  },
  {
   "cell_type": "code",
   "execution_count": null,
   "metadata": {},
   "outputs": [],
   "source": []
  },
  {
   "cell_type": "code",
   "execution_count": 70,
   "metadata": {},
   "outputs": [
    {
     "data": {
      "text/html": [
       "<div>\n",
       "<style>\n",
       "    .dataframe thead tr:only-child th {\n",
       "        text-align: right;\n",
       "    }\n",
       "\n",
       "    .dataframe thead th {\n",
       "        text-align: left;\n",
       "    }\n",
       "\n",
       "    .dataframe tbody tr th {\n",
       "        vertical-align: top;\n",
       "    }\n",
       "</style>\n",
       "<table border=\"1\" class=\"dataframe\">\n",
       "  <thead>\n",
       "    <tr style=\"text-align: right;\">\n",
       "      <th></th>\n",
       "      <th>Name_y</th>\n",
       "    </tr>\n",
       "    <tr>\n",
       "      <th>Name_y</th>\n",
       "      <th></th>\n",
       "    </tr>\n",
       "  </thead>\n",
       "  <tbody>\n",
       "    <tr>\n",
       "      <th>Joh</th>\n",
       "      <td>1</td>\n",
       "    </tr>\n",
       "    <tr>\n",
       "      <th>John</th>\n",
       "      <td>1</td>\n",
       "    </tr>\n",
       "  </tbody>\n",
       "</table>\n",
       "</div>"
      ],
      "text/plain": [
       "        Name_y\n",
       "Name_y        \n",
       "Joh          1\n",
       "John         1"
      ]
     },
     "execution_count": 70,
     "metadata": {},
     "output_type": "execute_result"
    }
   ],
   "source": [
    "output.groupby('Name_y').aggregate({'Name_y':lambda x: x.nunique()})"
   ]
  },
  {
   "cell_type": "code",
   "execution_count": 66,
   "metadata": {},
   "outputs": [
    {
     "data": {
      "text/html": [
       "<div>\n",
       "<style>\n",
       "    .dataframe thead tr:only-child th {\n",
       "        text-align: right;\n",
       "    }\n",
       "\n",
       "    .dataframe thead th {\n",
       "        text-align: left;\n",
       "    }\n",
       "\n",
       "    .dataframe tbody tr th {\n",
       "        vertical-align: top;\n",
       "    }\n",
       "</style>\n",
       "<table border=\"1\" class=\"dataframe\">\n",
       "  <thead>\n",
       "    <tr style=\"text-align: right;\">\n",
       "      <th></th>\n",
       "      <th>Id_x</th>\n",
       "      <th>Name_x</th>\n",
       "      <th>Department_x</th>\n",
       "      <th>Manager_Id_x</th>\n",
       "      <th>Id_y</th>\n",
       "      <th>Name_y</th>\n",
       "      <th>Department_y</th>\n",
       "      <th>Manager_Id_y</th>\n",
       "    </tr>\n",
       "  </thead>\n",
       "  <tbody>\n",
       "    <tr>\n",
       "      <th>0</th>\n",
       "      <td>101.0</td>\n",
       "      <td>John</td>\n",
       "      <td>A</td>\n",
       "      <td>107</td>\n",
       "      <td>107.0</td>\n",
       "      <td>Joh</td>\n",
       "      <td>C</td>\n",
       "      <td>null</td>\n",
       "    </tr>\n",
       "    <tr>\n",
       "      <th>1</th>\n",
       "      <td>108.0</td>\n",
       "      <td>Ja</td>\n",
       "      <td>C</td>\n",
       "      <td>107</td>\n",
       "      <td>107.0</td>\n",
       "      <td>Joh</td>\n",
       "      <td>C</td>\n",
       "      <td>null</td>\n",
       "    </tr>\n",
       "    <tr>\n",
       "      <th>2</th>\n",
       "      <td>109.0</td>\n",
       "      <td>Jb</td>\n",
       "      <td>C</td>\n",
       "      <td>107</td>\n",
       "      <td>107.0</td>\n",
       "      <td>Joh</td>\n",
       "      <td>C</td>\n",
       "      <td>null</td>\n",
       "    </tr>\n",
       "    <tr>\n",
       "      <th>3</th>\n",
       "      <td>110.0</td>\n",
       "      <td>Jc</td>\n",
       "      <td>C</td>\n",
       "      <td>107</td>\n",
       "      <td>107.0</td>\n",
       "      <td>Joh</td>\n",
       "      <td>C</td>\n",
       "      <td>null</td>\n",
       "    </tr>\n",
       "    <tr>\n",
       "      <th>4</th>\n",
       "      <td>111.0</td>\n",
       "      <td>Jd</td>\n",
       "      <td>C</td>\n",
       "      <td>107</td>\n",
       "      <td>107.0</td>\n",
       "      <td>Joh</td>\n",
       "      <td>C</td>\n",
       "      <td>null</td>\n",
       "    </tr>\n",
       "    <tr>\n",
       "      <th>5</th>\n",
       "      <td>102.0</td>\n",
       "      <td>Dan</td>\n",
       "      <td>A</td>\n",
       "      <td>101</td>\n",
       "      <td>101.0</td>\n",
       "      <td>John</td>\n",
       "      <td>A</td>\n",
       "      <td>107</td>\n",
       "    </tr>\n",
       "    <tr>\n",
       "      <th>6</th>\n",
       "      <td>103.0</td>\n",
       "      <td>James</td>\n",
       "      <td>A</td>\n",
       "      <td>101</td>\n",
       "      <td>101.0</td>\n",
       "      <td>John</td>\n",
       "      <td>A</td>\n",
       "      <td>107</td>\n",
       "    </tr>\n",
       "    <tr>\n",
       "      <th>7</th>\n",
       "      <td>104.0</td>\n",
       "      <td>Amy</td>\n",
       "      <td>A</td>\n",
       "      <td>101</td>\n",
       "      <td>101.0</td>\n",
       "      <td>John</td>\n",
       "      <td>A</td>\n",
       "      <td>107</td>\n",
       "    </tr>\n",
       "    <tr>\n",
       "      <th>8</th>\n",
       "      <td>105.0</td>\n",
       "      <td>Anne</td>\n",
       "      <td>A</td>\n",
       "      <td>101</td>\n",
       "      <td>101.0</td>\n",
       "      <td>John</td>\n",
       "      <td>A</td>\n",
       "      <td>107</td>\n",
       "    </tr>\n",
       "    <tr>\n",
       "      <th>9</th>\n",
       "      <td>106.0</td>\n",
       "      <td>Ron</td>\n",
       "      <td>B</td>\n",
       "      <td>101</td>\n",
       "      <td>101.0</td>\n",
       "      <td>John</td>\n",
       "      <td>A</td>\n",
       "      <td>107</td>\n",
       "    </tr>\n",
       "    <tr>\n",
       "      <th>10</th>\n",
       "      <td>107.0</td>\n",
       "      <td>Joh</td>\n",
       "      <td>C</td>\n",
       "      <td>null</td>\n",
       "      <td>NaN</td>\n",
       "      <td>NaN</td>\n",
       "      <td>NaN</td>\n",
       "      <td>NaN</td>\n",
       "    </tr>\n",
       "    <tr>\n",
       "      <th>11</th>\n",
       "      <td>NaN</td>\n",
       "      <td>NaN</td>\n",
       "      <td>NaN</td>\n",
       "      <td>NaN</td>\n",
       "      <td>102.0</td>\n",
       "      <td>Dan</td>\n",
       "      <td>A</td>\n",
       "      <td>101</td>\n",
       "    </tr>\n",
       "    <tr>\n",
       "      <th>12</th>\n",
       "      <td>NaN</td>\n",
       "      <td>NaN</td>\n",
       "      <td>NaN</td>\n",
       "      <td>NaN</td>\n",
       "      <td>103.0</td>\n",
       "      <td>James</td>\n",
       "      <td>A</td>\n",
       "      <td>101</td>\n",
       "    </tr>\n",
       "    <tr>\n",
       "      <th>13</th>\n",
       "      <td>NaN</td>\n",
       "      <td>NaN</td>\n",
       "      <td>NaN</td>\n",
       "      <td>NaN</td>\n",
       "      <td>104.0</td>\n",
       "      <td>Amy</td>\n",
       "      <td>A</td>\n",
       "      <td>101</td>\n",
       "    </tr>\n",
       "    <tr>\n",
       "      <th>14</th>\n",
       "      <td>NaN</td>\n",
       "      <td>NaN</td>\n",
       "      <td>NaN</td>\n",
       "      <td>NaN</td>\n",
       "      <td>105.0</td>\n",
       "      <td>Anne</td>\n",
       "      <td>A</td>\n",
       "      <td>101</td>\n",
       "    </tr>\n",
       "    <tr>\n",
       "      <th>15</th>\n",
       "      <td>NaN</td>\n",
       "      <td>NaN</td>\n",
       "      <td>NaN</td>\n",
       "      <td>NaN</td>\n",
       "      <td>106.0</td>\n",
       "      <td>Ron</td>\n",
       "      <td>B</td>\n",
       "      <td>101</td>\n",
       "    </tr>\n",
       "    <tr>\n",
       "      <th>16</th>\n",
       "      <td>NaN</td>\n",
       "      <td>NaN</td>\n",
       "      <td>NaN</td>\n",
       "      <td>NaN</td>\n",
       "      <td>108.0</td>\n",
       "      <td>Ja</td>\n",
       "      <td>C</td>\n",
       "      <td>107</td>\n",
       "    </tr>\n",
       "    <tr>\n",
       "      <th>17</th>\n",
       "      <td>NaN</td>\n",
       "      <td>NaN</td>\n",
       "      <td>NaN</td>\n",
       "      <td>NaN</td>\n",
       "      <td>109.0</td>\n",
       "      <td>Jb</td>\n",
       "      <td>C</td>\n",
       "      <td>107</td>\n",
       "    </tr>\n",
       "    <tr>\n",
       "      <th>18</th>\n",
       "      <td>NaN</td>\n",
       "      <td>NaN</td>\n",
       "      <td>NaN</td>\n",
       "      <td>NaN</td>\n",
       "      <td>110.0</td>\n",
       "      <td>Jc</td>\n",
       "      <td>C</td>\n",
       "      <td>107</td>\n",
       "    </tr>\n",
       "    <tr>\n",
       "      <th>19</th>\n",
       "      <td>NaN</td>\n",
       "      <td>NaN</td>\n",
       "      <td>NaN</td>\n",
       "      <td>NaN</td>\n",
       "      <td>111.0</td>\n",
       "      <td>Jd</td>\n",
       "      <td>C</td>\n",
       "      <td>107</td>\n",
       "    </tr>\n",
       "  </tbody>\n",
       "</table>\n",
       "</div>"
      ],
      "text/plain": [
       "     Id_x Name_x Department_x Manager_Id_x   Id_y Name_y Department_y  \\\n",
       "0   101.0   John            A          107  107.0    Joh            C   \n",
       "1   108.0     Ja            C          107  107.0    Joh            C   \n",
       "2   109.0     Jb            C          107  107.0    Joh            C   \n",
       "3   110.0     Jc            C          107  107.0    Joh            C   \n",
       "4   111.0     Jd            C          107  107.0    Joh            C   \n",
       "5   102.0    Dan            A          101  101.0   John            A   \n",
       "6   103.0  James            A          101  101.0   John            A   \n",
       "7   104.0    Amy            A          101  101.0   John            A   \n",
       "8   105.0   Anne            A          101  101.0   John            A   \n",
       "9   106.0    Ron            B          101  101.0   John            A   \n",
       "10  107.0    Joh            C         null    NaN    NaN          NaN   \n",
       "11    NaN    NaN          NaN          NaN  102.0    Dan            A   \n",
       "12    NaN    NaN          NaN          NaN  103.0  James            A   \n",
       "13    NaN    NaN          NaN          NaN  104.0    Amy            A   \n",
       "14    NaN    NaN          NaN          NaN  105.0   Anne            A   \n",
       "15    NaN    NaN          NaN          NaN  106.0    Ron            B   \n",
       "16    NaN    NaN          NaN          NaN  108.0     Ja            C   \n",
       "17    NaN    NaN          NaN          NaN  109.0     Jb            C   \n",
       "18    NaN    NaN          NaN          NaN  110.0     Jc            C   \n",
       "19    NaN    NaN          NaN          NaN  111.0     Jd            C   \n",
       "\n",
       "   Manager_Id_y  \n",
       "0          null  \n",
       "1          null  \n",
       "2          null  \n",
       "3          null  \n",
       "4          null  \n",
       "5           107  \n",
       "6           107  \n",
       "7           107  \n",
       "8           107  \n",
       "9           107  \n",
       "10          NaN  \n",
       "11          101  \n",
       "12          101  \n",
       "13          101  \n",
       "14          101  \n",
       "15          101  \n",
       "16          107  \n",
       "17          107  \n",
       "18          107  \n",
       "19          107  "
      ]
     },
     "execution_count": 66,
     "metadata": {},
     "output_type": "execute_result"
    }
   ],
   "source": [
    "pmee1=pd.merge(Employee,Employee,left_on='Manager_Id',right_on='Id', how='outer')\n",
    "pmee1"
   ]
  },
  {
   "cell_type": "code",
   "execution_count": null,
   "metadata": {},
   "outputs": [],
   "source": [
    "Users"
   ]
  },
  {
   "cell_type": "code",
   "execution_count": null,
   "metadata": {},
   "outputs": [],
   "source": [
    "pmee=pd.merge(Trips,Users,left_on='Client_Id',right_on='Users_Id', how='inner')\n",
    "pmee"
   ]
  },
  {
   "cell_type": "code",
   "execution_count": null,
   "metadata": {},
   "outputs": [],
   "source": [
    "out0=pmee[(pmee['Banned']=='No') &(pmee['Request_at']>='2013-10-01')& (pmee['Request_at']<= '2013-10-03')] # and '2013-10-03'\n",
    "out0"
   ]
  },
  {
   "cell_type": "code",
   "execution_count": null,
   "metadata": {},
   "outputs": [],
   "source": [
    "pme"
   ]
  },
  {
   "cell_type": "code",
   "execution_count": null,
   "metadata": {},
   "outputs": [],
   "source": [
    "p1=out0.groupby('Request_at').count()\n",
    "p1"
   ]
  },
  {
   "cell_type": "code",
   "execution_count": null,
   "metadata": {},
   "outputs": [],
   "source": [
    "p1['cnt']=p1['Id']\n",
    "p1=p1.reset_index()\n",
    "p1"
   ]
  },
  {
   "cell_type": "code",
   "execution_count": null,
   "metadata": {},
   "outputs": [],
   "source": [
    "caa"
   ]
  },
  {
   "cell_type": "code",
   "execution_count": null,
   "metadata": {},
   "outputs": [],
   "source": [
    "caa1=caa.groupby('Request_at').count()\n",
    "cc=caa1.reset_index()\n",
    "cc"
   ]
  },
  {
   "cell_type": "code",
   "execution_count": null,
   "metadata": {},
   "outputs": [],
   "source": [
    "cc['ctt']=cc['Id']\n",
    "cc=cc.reset_index()\n",
    "cc"
   ]
  },
  {
   "cell_type": "code",
   "execution_count": null,
   "metadata": {},
   "outputs": [],
   "source": [
    "num=cc[['Request_at','ctt']]\n",
    "num"
   ]
  },
  {
   "cell_type": "code",
   "execution_count": null,
   "metadata": {},
   "outputs": [],
   "source": [
    "den=p1[['Request_at','cnt']]\n",
    "den"
   ]
  },
  {
   "cell_type": "code",
   "execution_count": null,
   "metadata": {},
   "outputs": [],
   "source": [
    "output=pd.merge(den,num,on='Request_at',how='left')\n",
    "output"
   ]
  },
  {
   "cell_type": "code",
   "execution_count": null,
   "metadata": {},
   "outputs": [],
   "source": [
    "output.fillna(0,inplace=True)\n",
    "output"
   ]
  },
  {
   "cell_type": "code",
   "execution_count": null,
   "metadata": {},
   "outputs": [],
   "source": [
    "output['rate']=output['ctt']/output['cnt']\n",
    "output['rate'] = output['rate'].round(2)\n",
    "output"
   ]
  },
  {
   "cell_type": "code",
   "execution_count": null,
   "metadata": {},
   "outputs": [],
   "source": [
    "output=output[['Request_at','rate']]\n",
    "output"
   ]
  },
  {
   "cell_type": "code",
   "execution_count": null,
   "metadata": {},
   "outputs": [],
   "source": [
    "print(output.to_string(index=False))"
   ]
  },
  {
   "cell_type": "markdown",
   "metadata": {},
   "source": [
    "Count only non-null values, use count;Count total values including null values, use size attribute."
   ]
  },
  {
   "cell_type": "markdown",
   "metadata": {},
   "source": [
    "# 569. Median Employee Salary"
   ]
  },
  {
   "attachments": {
    "image.png": {
     "image/png": "[encoded data removed]"
    }
   },
   "cell_type": "markdown",
   "metadata": {},
   "source": [
    "![image.png](attachment:image.png)\n"
   ]
  },
  {
   "attachments": {
    "image.png": {
     "image/png": "[encoded data removed]"
    }
   },
   "cell_type": "markdown",
   "metadata": {},
   "source": [
    "![image.png](attachment:image.png)"
   ]
  },
  {
   "cell_type": "code",
   "execution_count": null,
   "metadata": {},
   "outputs": [],
   "source": [
    "import pandas as pd\n",
    "import re\n",
    "import numpy as np\n",
    "Employee= pd.DataFrame({'Id':[1,2,3,4,5,6,7,8,9,10,11,12,13,14,15,16,17],'Company':['A','A','A','A','A','A',\n",
    "'B','B','B','B','B','B','C','C','C','C','C'],'Salary':[2341,341,15,15314,451,513,15,13,1154,1345,1221,234,2345,2645,2645,\n",
    "2652,65]})\n",
    "Employee=Employee[['Id','Company','Salary']]\n",
    "Employee"
   ]
  },
  {
   "cell_type": "code",
   "execution_count": null,
   "metadata": {},
   "outputs": [],
   "source": [
    "ggrouped=Employee.groupby('Company').agg({'Salary':[sum,min,max,np.mean,np.median,np.std]})\n",
    "ggrouped"
   ]
  },
  {
   "cell_type": "code",
   "execution_count": null,
   "metadata": {},
   "outputs": [],
   "source": [
    "Employeec=Employee.copy()\n",
    "Employeec"
   ]
  },
  {
   "cell_type": "code",
   "execution_count": null,
   "metadata": {},
   "outputs": [],
   "source": [
    "Employeec['Rank'] =Employeec.groupby(['Company'])['Salary'].rank(ascending=False).astype(int)\n",
    "Employeec"
   ]
  },
  {
   "cell_type": "code",
   "execution_count": null,
   "metadata": {},
   "outputs": [],
   "source": [
    "Employeec.sort_values(['Company','Rank','Salary'],ascending=[True,True,True])\n",
    "Employeec"
   ]
  },
  {
   "cell_type": "code",
   "execution_count": null,
   "metadata": {},
   "outputs": [],
   "source": [
    "ee=Employee.groupby('Company').apply(lambda x:x.sort_values(['Salary'],ascending=False))\n",
    "ee\n",
    "#groupby('Name_x').apply(lambda x:x[['Salary','Name_y']].reset_index()).reset_index()"
   ]
  },
  {
   "cell_type": "code",
   "execution_count": null,
   "metadata": {},
   "outputs": [],
   "source": [
    "Employee1=Employee.groupby('Company').apply(lambda x:x.sort_values(['Salary'],ascending=False))\n",
    "Employee1"
   ]
  },
  {
   "cell_type": "code",
   "execution_count": null,
   "metadata": {},
   "outputs": [],
   "source": [
    "Employee1['rank']=Employee1.groupby('Company')['Salary'].rank(ascending=False,method='first').astype(int)\n",
    "Employee1"
   ]
  },
  {
   "cell_type": "code",
   "execution_count": null,
   "metadata": {},
   "outputs": [],
   "source": [
    "Employee1['cumt']=Employee1.groupby('Company')['Salary'].cumcount()+1\n",
    "Employee1"
   ]
  },
  {
   "cell_type": "code",
   "execution_count": null,
   "metadata": {},
   "outputs": [],
   "source": [
    "emp1=Employee1.groupby('Company').count()\n",
    "emp1"
   ]
  },
  {
   "cell_type": "code",
   "execution_count": null,
   "metadata": {},
   "outputs": [],
   "source": [
    "emp1.reset_index(inplace=True)\n",
    "emp1"
   ]
  },
  {
   "cell_type": "code",
   "execution_count": null,
   "metadata": {},
   "outputs": [],
   "source": [
    "emp1['total']=emp1['rank']\n",
    "emp1"
   ]
  },
  {
   "cell_type": "code",
   "execution_count": null,
   "metadata": {},
   "outputs": [],
   "source": [
    "emp2=emp1[['Company','total']]\n",
    "emp2"
   ]
  },
  {
   "cell_type": "code",
   "execution_count": null,
   "metadata": {},
   "outputs": [],
   "source": [
    "output=pd.merge(Employee1,emp2,on='Company',how='left')\n",
    "output"
   ]
  },
  {
   "cell_type": "code",
   "execution_count": null,
   "metadata": {},
   "outputs": [],
   "source": [
    "output['tf']=output.total%2==0\n",
    "output"
   ]
  },
  {
   "cell_type": "code",
   "execution_count": null,
   "metadata": {},
   "outputs": [],
   "source": [
    "\n",
    "output1=output[(output['rank'].isin((output.total/2)+1))&(output['tf']==True)]\n",
    "output1"
   ]
  },
  {
   "cell_type": "code",
   "execution_count": null,
   "metadata": {},
   "outputs": [],
   "source": [
    "output2=output[(output['rank'].isin((output.total+1)/2))&(output['tf']==False)]\n",
    "output2"
   ]
  },
  {
   "cell_type": "code",
   "execution_count": null,
   "metadata": {},
   "outputs": [],
   "source": [
    "outputt=pd.concat([output1,output2])\n",
    "outputt"
   ]
  },
  {
   "cell_type": "code",
   "execution_count": null,
   "metadata": {},
   "outputs": [],
   "source": [
    "outputt['mediansalary']=outputt['Salary']\n",
    "outputt.sort_values('Id')\n"
   ]
  },
  {
   "cell_type": "code",
   "execution_count": null,
   "metadata": {},
   "outputs": [],
   "source": [
    "outputt1=outputt.sort_values('Id')[['Id','Company','mediansalary']]\n",
    "outputt1"
   ]
  },
  {
   "cell_type": "code",
   "execution_count": null,
   "metadata": {},
   "outputs": [],
   "source": [
    "print(outputt1.to_string(index=False))"
   ]
  },
  {
   "cell_type": "code",
   "execution_count": null,
   "metadata": {},
   "outputs": [],
   "source": []
  },
  {
   "cell_type": "code",
   "execution_count": null,
   "metadata": {},
   "outputs": [],
   "source": []
  },
  {
   "cell_type": "code",
   "execution_count": null,
   "metadata": {},
   "outputs": [],
   "source": []
  },
  {
   "cell_type": "code",
   "execution_count": null,
   "metadata": {},
   "outputs": [],
   "source": []
  },
  {
   "cell_type": "code",
   "execution_count": null,
   "metadata": {},
   "outputs": [],
   "source": [
    "Employee1['rank']=Employee1.groupby('Company')['Salary'].rank(ascending=1).astype(int)\n",
    "Employee1"
   ]
  },
  {
   "cell_type": "code",
   "execution_count": null,
   "metadata": {},
   "outputs": [],
   "source": [
    "Employee.groupby(['Company'])[['Salary']].apply(np.median)\n",
    "#df.groupby(['name', 'id', 'dept'])['total_sale'].mean() apply(numpy.median)"
   ]
  },
  {
   "cell_type": "code",
   "execution_count": null,
   "metadata": {},
   "outputs": [],
   "source": []
  },
  {
   "cell_type": "code",
   "execution_count": null,
   "metadata": {},
   "outputs": [],
   "source": []
  },
  {
   "cell_type": "code",
   "execution_count": null,
   "metadata": {},
   "outputs": [],
   "source": []
  }
 ],
 "metadata": {
  "kernelspec": {
   "display_name": "Python 3",
   "language": "python",
   "name": "python3"
  },
  "language_info": {
   "codemirror_mode": {
    "name": "ipython",
    "version": 3
   },
   "file_extension": ".py",
   "mimetype": "text/x-python",
   "name": "python",
   "nbconvert_exporter": "python",
   "pygments_lexer": "ipython3",
   "version": "3.6.3"
  }
 },
 "nbformat": 4,
 "nbformat_minor": 2
}
