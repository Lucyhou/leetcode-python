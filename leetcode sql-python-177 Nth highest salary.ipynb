{
 "cells": [
  {
   "cell_type": "markdown",
   "metadata": {},
   "source": [
    "# 177. Nth Highest Salary  "
   ]
  },
  {
   "cell_type": "code",
   "execution_count": 43,
   "metadata": {},
   "outputs": [
    {
     "data": {
      "text/html": [
       "<div>\n",
       "<style>\n",
       "    .dataframe thead tr:only-child th {\n",
       "        text-align: right;\n",
       "    }\n",
       "\n",
       "    .dataframe thead th {\n",
       "        text-align: left;\n",
       "    }\n",
       "\n",
       "    .dataframe tbody tr th {\n",
       "        vertical-align: top;\n",
       "    }\n",
       "</style>\n",
       "<table border=\"1\" class=\"dataframe\">\n",
       "  <thead>\n",
       "    <tr style=\"text-align: right;\">\n",
       "      <th></th>\n",
       "      <th>Age</th>\n",
       "      <th>Salary</th>\n",
       "    </tr>\n",
       "    <tr>\n",
       "      <th>Id</th>\n",
       "      <th></th>\n",
       "      <th></th>\n",
       "    </tr>\n",
       "  </thead>\n",
       "  <tbody>\n",
       "    <tr>\n",
       "      <th>4</th>\n",
       "      <td>24</td>\n",
       "      <td>100</td>\n",
       "    </tr>\n",
       "    <tr>\n",
       "      <th>5</th>\n",
       "      <td>35</td>\n",
       "      <td>200</td>\n",
       "    </tr>\n",
       "    <tr>\n",
       "      <th>6</th>\n",
       "      <td>26</td>\n",
       "      <td>300</td>\n",
       "    </tr>\n",
       "    <tr>\n",
       "      <th>7</th>\n",
       "      <td>30</td>\n",
       "      <td>200</td>\n",
       "    </tr>\n",
       "  </tbody>\n",
       "</table>\n",
       "</div>"
      ],
      "text/plain": [
       "    Age  Salary\n",
       "Id             \n",
       "4    24     100\n",
       "5    35     200\n",
       "6    26     300\n",
       "7    30     200"
      ]
     },
     "execution_count": 43,
     "metadata": {},
     "output_type": "execute_result"
    }
   ],
   "source": [
    "Employee_177 = pd.DataFrame({'Id':[4,5,6,7],\n",
    "                             'Age':[24,35,26,30],\n",
    "                             'Salary':[100,200,300,200]})\n",
    "Employee_177.set_index('Id',inplace = True)\n",
    "Employee_177"
   ]
  },
  {
   "cell_type": "code",
   "execution_count": 44,
   "metadata": {},
   "outputs": [
    {
     "name": "stdout",
     "output_type": "stream",
     "text": [
      "    Age  Salary\n",
      "Id             \n",
      "6    26     300\n",
      "5    35     200\n",
      "7    30     200\n",
      "4    24     100\n",
      "Age        35\n",
      "Salary    200\n",
      "Name: 5, dtype: int64\n",
      "100\n",
      "200\n",
      "300\n"
     ]
    }
   ],
   "source": [
    "newdf = Employee_177.sort_values('Salary',ascending = False)\n",
    "print(newdf)\n",
    "print(newdf.iloc[1])\n",
    "print(newdf['Salary'][4])\n",
    "print(newdf['Salary'][5])\n",
    "print(newdf['Salary'][6])"
   ]
  },
  {
   "cell_type": "code",
   "execution_count": 46,
   "metadata": {},
   "outputs": [
    {
     "name": "stdout",
     "output_type": "stream",
     "text": [
      "200\n",
      "200\n",
      "300\n"
     ]
    }
   ],
   "source": [
    "def getNthHighestSalary(N):\n",
    "    newdf = Employee_177.sort_values('Salary',ascending = False)\n",
    "    return newdf['Salary'].iloc[N-1]\n",
    "\n",
    "print(getNthHighestSalary(3))\n",
    "print(getNthHighestSalary(2))\n",
    "print(getNthHighestSalary(1))"
   ]
  },
  {
   "cell_type": "code",
   "execution_count": 42,
   "metadata": {},
   "outputs": [
    {
     "name": "stdout",
     "output_type": "stream",
     "text": [
      "100\n",
      "200\n",
      "300\n"
     ]
    }
   ],
   "source": [
    "def getNthHighestSalary(N):\n",
    "    newdf = Employee_177.sort_values('Salary',ascending = False)\n",
    "    return newdf.iloc[N-1,0]\n",
    "\n",
    "print(getNthHighestSalary(3))\n",
    "print(getNthHighestSalary(2))\n",
    "print(getNthHighestSalary(1))"
   ]
  },
  {
   "cell_type": "code",
   "execution_count": 69,
   "metadata": {},
   "outputs": [
    {
     "name": "stdout",
     "output_type": "stream",
     "text": [
      "{26}\n",
      "{35, 30}\n",
      "{24}\n"
     ]
    }
   ],
   "source": [
    "def getNthHighestSalary(N):\n",
    "    newdf = Employee_177.sort_values('Salary',ascending = False)\n",
    "    newdf['Rank'] = newdf.Salary.rank(method='dense').astype(int)\n",
    "    return set(newdf.loc[newdf['Rank'] == N].Age)\n",
    "\n",
    "print(getNthHighestSalary(3))\n",
    "print(getNthHighestSalary(2))\n",
    "print(getNthHighestSalary(1))"
   ]
  },
  {
   "cell_type": "code",
   "execution_count": null,
   "metadata": {},
   "outputs": [],
   "source": []
  }
 ],
 "metadata": {
  "kernelspec": {
   "display_name": "Python 3",
   "language": "python",
   "name": "python3"
  },
  "language_info": {
   "codemirror_mode": {
    "name": "ipython",
    "version": 3
   },
   "file_extension": ".py",
   "mimetype": "text/x-python",
   "name": "python",
   "nbconvert_exporter": "python",
   "pygments_lexer": "ipython3",
   "version": "3.6.3"
  }
 },
 "nbformat": 4,
 "nbformat_minor": 2
}
