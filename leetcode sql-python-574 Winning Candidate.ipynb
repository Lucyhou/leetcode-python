{
 "cells": [
  {
   "cell_type": "markdown",
   "metadata": {},
   "source": [
    "# 574. Winning Candidate"
   ]
  },
  {
   "cell_type": "raw",
   "metadata": {},
   "source": [
    "Table: Candidate\n",
    "\n",
    "+-----+---------+Candidate= pd.DataFrame({'id':[1,2,3,4,5],'Name':['A','B','C','D','E']})\n",
    "Candidate=Candidate[['id','Name']]\n",
    "Candidate\n",
    "| id  | Name    |\n",
    "+-----+---------+\n",
    "| 1   | A       |\n",
    "| 2   | B       |\n",
    "| 3   | C       |\n",
    "| 4   | D       |\n",
    "| 5   | E       |\n",
    "+-----+---------+  \n",
    "Table: Vote\n",
    "\n",
    "+-----+--------------+\n",
    "| id  | CandidateId  |\n",
    "+-----+--------------+\n",
    "| 1   |     2        |\n",
    "| 2   |     4        |\n",
    "| 3   |     3        |\n",
    "| 4   |     2        |\n",
    "| 5   |     5        |\n",
    "+-----+--------------+\n",
    "id is the auto-increment primary key,\n",
    "CandidateId is the id appeared in Candidate table.\n",
    "Write a sql to find the name of the winning candidate, the above example will return the winner B.\n",
    "\n",
    "+------+\n",
    "| Name |\n",
    "+------+\n",
    "| B    |\n",
    "+------+"
   ]
  },
  {
   "cell_type": "code",
   "execution_count": 1,
   "metadata": {},
   "outputs": [
    {
     "data": {
      "text/html": [
       "<div>\n",
       "<style>\n",
       "    .dataframe thead tr:only-child th {\n",
       "        text-align: right;\n",
       "    }\n",
       "\n",
       "    .dataframe thead th {\n",
       "        text-align: left;\n",
       "    }\n",
       "\n",
       "    .dataframe tbody tr th {\n",
       "        vertical-align: top;\n",
       "    }\n",
       "</style>\n",
       "<table border=\"1\" class=\"dataframe\">\n",
       "  <thead>\n",
       "    <tr style=\"text-align: right;\">\n",
       "      <th></th>\n",
       "      <th>id</th>\n",
       "      <th>Name</th>\n",
       "    </tr>\n",
       "  </thead>\n",
       "  <tbody>\n",
       "    <tr>\n",
       "      <th>0</th>\n",
       "      <td>1</td>\n",
       "      <td>A</td>\n",
       "    </tr>\n",
       "    <tr>\n",
       "      <th>1</th>\n",
       "      <td>2</td>\n",
       "      <td>B</td>\n",
       "    </tr>\n",
       "    <tr>\n",
       "      <th>2</th>\n",
       "      <td>3</td>\n",
       "      <td>C</td>\n",
       "    </tr>\n",
       "    <tr>\n",
       "      <th>3</th>\n",
       "      <td>4</td>\n",
       "      <td>D</td>\n",
       "    </tr>\n",
       "    <tr>\n",
       "      <th>4</th>\n",
       "      <td>5</td>\n",
       "      <td>E</td>\n",
       "    </tr>\n",
       "  </tbody>\n",
       "</table>\n",
       "</div>"
      ],
      "text/plain": [
       "   id Name\n",
       "0   1    A\n",
       "1   2    B\n",
       "2   3    C\n",
       "3   4    D\n",
       "4   5    E"
      ]
     },
     "execution_count": 1,
     "metadata": {},
     "output_type": "execute_result"
    }
   ],
   "source": [
    "import pandas as pd\n",
    "import re\n",
    "import numpy as np\n",
    "Candidate= pd.DataFrame({'id':[1,2,3,4,5],'Name':['A','B','C','D','E']})\n",
    "Candidate=Candidate[['id','Name']]\n",
    "Candidate"
   ]
  },
  {
   "cell_type": "code",
   "execution_count": 2,
   "metadata": {},
   "outputs": [
    {
     "data": {
      "text/html": [
       "<div>\n",
       "<style>\n",
       "    .dataframe thead tr:only-child th {\n",
       "        text-align: right;\n",
       "    }\n",
       "\n",
       "    .dataframe thead th {\n",
       "        text-align: left;\n",
       "    }\n",
       "\n",
       "    .dataframe tbody tr th {\n",
       "        vertical-align: top;\n",
       "    }\n",
       "</style>\n",
       "<table border=\"1\" class=\"dataframe\">\n",
       "  <thead>\n",
       "    <tr style=\"text-align: right;\">\n",
       "      <th></th>\n",
       "      <th>id</th>\n",
       "      <th>CandidateId</th>\n",
       "    </tr>\n",
       "  </thead>\n",
       "  <tbody>\n",
       "    <tr>\n",
       "      <th>0</th>\n",
       "      <td>1</td>\n",
       "      <td>2</td>\n",
       "    </tr>\n",
       "    <tr>\n",
       "      <th>1</th>\n",
       "      <td>2</td>\n",
       "      <td>4</td>\n",
       "    </tr>\n",
       "    <tr>\n",
       "      <th>2</th>\n",
       "      <td>3</td>\n",
       "      <td>3</td>\n",
       "    </tr>\n",
       "    <tr>\n",
       "      <th>3</th>\n",
       "      <td>4</td>\n",
       "      <td>2</td>\n",
       "    </tr>\n",
       "    <tr>\n",
       "      <th>4</th>\n",
       "      <td>5</td>\n",
       "      <td>5</td>\n",
       "    </tr>\n",
       "  </tbody>\n",
       "</table>\n",
       "</div>"
      ],
      "text/plain": [
       "   id  CandidateId\n",
       "0   1            2\n",
       "1   2            4\n",
       "2   3            3\n",
       "3   4            2\n",
       "4   5            5"
      ]
     },
     "execution_count": 2,
     "metadata": {},
     "output_type": "execute_result"
    }
   ],
   "source": [
    "Vote= pd.DataFrame({'id':[1,2,3,4,5],'CandidateId':[2,4,3,2,5]})\n",
    "Vote=Vote[['id','CandidateId']]\n",
    "Vote"
   ]
  },
  {
   "cell_type": "code",
   "execution_count": 3,
   "metadata": {},
   "outputs": [
    {
     "name": "stdout",
     "output_type": "stream",
     "text": [
      "Name\n",
      "  B\n"
     ]
    }
   ],
   "source": [
    "#myanswer\n",
    "\n",
    "pme=pd.merge(Candidate,Vote,left_on='id',right_on='CandidateId', how='left')\n",
    "pme = pme.replace('nan', np.nan).fillna(0)\n",
    "pme.CandidateId=pme.CandidateId.astype(int)\n",
    "pme.id_y=pme.id_y.astype(int)\n",
    "p4=pme['Name'].value_counts().index.tolist()\n",
    "p5=pme['Name'].value_counts().values.tolist()\n",
    "output=pd.DataFrame({'Name':p4,'count':p5})\n",
    "o1=output[output['count']==max(pme['Name'].value_counts().values.tolist())]\n",
    "print(o1[['Name']].to_string(index=False))"
   ]
  },
  {
   "cell_type": "code",
   "execution_count": null,
   "metadata": {},
   "outputs": [],
   "source": []
  }
 ],
 "metadata": {
  "kernelspec": {
   "display_name": "Python 3",
   "language": "python",
   "name": "python3"
  },
  "language_info": {
   "codemirror_mode": {
    "name": "ipython",
    "version": 3
   },
   "file_extension": ".py",
   "mimetype": "text/x-python",
   "name": "python",
   "nbconvert_exporter": "python",
   "pygments_lexer": "ipython3",
   "version": "3.6.3"
  }
 },
 "nbformat": 4,
 "nbformat_minor": 2
}
